{
 "cells": [
  {
   "cell_type": "code",
   "execution_count": 1,
   "id": "chicken-glass",
   "metadata": {},
   "outputs": [],
   "source": [
    "import pickle\n",
    "from sklearn import preprocessing\n",
    "from nltk import word_tokenize\n",
    "import string\n",
    "import csv \n",
    "from sklearn.model_selection import KFold\n",
    "from sklearn import svm\n",
    "import pickle\n",
    "from sklearn.model_selection import train_test_split, GridSearchCV, RandomizedSearchCV\n",
    "from sklearn.metrics import accuracy_score, classification_report, plot_confusion_matrix, confusion_matrix, f1_score, ConfusionMatrixDisplay\n",
    "#from imblearn.over_sampling import SMOTENC, SMOTEN, RandomOverSampler\n",
    "from collections import Counter\n",
    "from sklearn.model_selection import StratifiedKFold\n",
    "from sklearn.ensemble import RandomForestClassifier\n",
    "from sklearn.utils import shuffle"
   ]
  },
  {
   "cell_type": "code",
   "execution_count": 2,
   "id": "understanding-orbit",
   "metadata": {},
   "outputs": [],
   "source": [
    "data = pickle.load(open(\"data_5splits.pkl\", \"rb\"))"
   ]
  },
  {
   "cell_type": "code",
   "execution_count": 3,
   "id": "sixth-coordination",
   "metadata": {},
   "outputs": [],
   "source": [
    "split_2 = data[2]"
   ]
  },
  {
   "cell_type": "code",
   "execution_count": 4,
   "id": "neural-subscriber",
   "metadata": {},
   "outputs": [],
   "source": [
    "X_train = split_2[0][0]\n",
    "y_train = split_2[0][1]\n",
    "\n",
    "X_test = split_2[1][0]\n",
    "y_test = split_2[1][1]"
   ]
  },
  {
   "cell_type": "code",
   "execution_count": 5,
   "id": "entertaining-edition",
   "metadata": {},
   "outputs": [],
   "source": [
    "le = pickle.load(open(\"label_encoder.pkl\", \"rb\"))"
   ]
  },
  {
   "cell_type": "code",
   "execution_count": 6,
   "id": "negative-soccer",
   "metadata": {},
   "outputs": [],
   "source": [
    "svm_model = pickle.load(open(\"../Models/svm_models.pkl\", \"rb\"))[2]"
   ]
  },
  {
   "cell_type": "code",
   "execution_count": null,
   "id": "absolute-range",
   "metadata": {},
   "outputs": [],
   "source": [
    "rf_model = pickle.load(open(\"../Models/rf_models.pkl\", \"rb\"))[2]"
   ]
  },
  {
   "cell_type": "markdown",
   "id": "aerial-framework",
   "metadata": {},
   "source": [
    "## SVM confusion Matrix\n"
   ]
  },
  {
   "cell_type": "code",
   "execution_count": 35,
   "id": "postal-struggle",
   "metadata": {},
   "outputs": [],
   "source": [
    "predictions = svm_model.predict(X_test)"
   ]
  },
  {
   "cell_type": "code",
   "execution_count": 36,
   "id": "proved-briefing",
   "metadata": {},
   "outputs": [
    {
     "data": {
      "text/plain": [
       "array([ 6,  9,  4,  9,  9,  9, 11,  9,  9, 11,  9,  9,  9,  9,  9,  6,  8,\n",
       "        9,  0,  1,  9,  9,  9,  9,  8,  9,  4,  9,  9,  9,  9,  9, 11,  9,\n",
       "       10,  6,  9,  9,  1,  9,  9,  9,  9,  9,  8,  5,  9,  9,  9,  8,  8,\n",
       "        4,  9,  1,  1,  1,  1,  1,  6,  9,  9,  9,  9,  9,  9,  9,  9,  9,\n",
       "       12,  9,  9,  4,  9,  9,  9,  9,  9,  9,  9,  9, 11,  9,  9,  9,  9,\n",
       "        9,  6,  9,  9,  6,  9,  9,  9, 11,  9,  6,  9, 10,  9,  9,  9,  6,\n",
       "        9,  8,  9,  1, 11,  9,  9,  9,  9,  9,  9,  8,  1,  9,  1,  9,  9,\n",
       "        9,  9, 10,  9,  9,  3,  3,  9,  3,  3,  9,  3,  3,  3,  3,  5,  4,\n",
       "        2,  4,  4,  4,  2,  5,  2,  2,  4,  9,  4,  5,  2,  9,  2,  2,  2,\n",
       "        9,  5,  4,  2,  5,  5,  4,  4,  5,  5,  4,  2])"
      ]
     },
     "execution_count": 36,
     "metadata": {},
     "output_type": "execute_result"
    }
   ],
   "source": [
    "predictions "
   ]
  },
  {
   "cell_type": "code",
   "execution_count": 40,
   "id": "potential-animation",
   "metadata": {},
   "outputs": [
    {
     "name": "stdout",
     "output_type": "stream",
     "text": [
      "              precision    recall  f1-score   support\n",
      "\n",
      "         ack       1.00      1.00      1.00         1\n",
      "         dno       1.00      0.71      0.83        14\n",
      "          fa       1.00      0.83      0.91        12\n",
      "          fe       1.00      0.73      0.84        11\n",
      "          fp       0.79      0.85      0.81        13\n",
      "          ft       0.89      1.00      0.94         8\n",
      "           n       1.00      0.89      0.94         9\n",
      "         n-d       0.00      0.00      0.00         1\n",
      "       query       0.86      0.86      0.86         7\n",
      "         sno       0.80      0.96      0.87        73\n",
      "          so       0.67      0.50      0.57         4\n",
      "           y       1.00      0.60      0.75        10\n",
      "         y-d       0.00      0.00      0.00         2\n",
      "\n",
      "    accuracy                           0.85       165\n",
      "   macro avg       0.77      0.69      0.72       165\n",
      "weighted avg       0.85      0.85      0.84       165\n",
      "\n"
     ]
    },
    {
     "name": "stderr",
     "output_type": "stream",
     "text": [
      "c:\\users\\adianidm\\venv\\lib\\site-packages\\sklearn\\metrics\\_classification.py:1318: UndefinedMetricWarning: Precision and F-score are ill-defined and being set to 0.0 in labels with no predicted samples. Use `zero_division` parameter to control this behavior.\n",
      "  _warn_prf(average, modifier, msg_start, len(result))\n",
      "c:\\users\\adianidm\\venv\\lib\\site-packages\\sklearn\\metrics\\_classification.py:1318: UndefinedMetricWarning: Precision and F-score are ill-defined and being set to 0.0 in labels with no predicted samples. Use `zero_division` parameter to control this behavior.\n",
      "  _warn_prf(average, modifier, msg_start, len(result))\n",
      "c:\\users\\adianidm\\venv\\lib\\site-packages\\sklearn\\metrics\\_classification.py:1318: UndefinedMetricWarning: Precision and F-score are ill-defined and being set to 0.0 in labels with no predicted samples. Use `zero_division` parameter to control this behavior.\n",
      "  _warn_prf(average, modifier, msg_start, len(result))\n"
     ]
    }
   ],
   "source": [
    "print(classification_report(le.inverse_transform(y_test), le.inverse_transform(predictions)))"
   ]
  },
  {
   "cell_type": "code",
   "execution_count": 41,
   "id": "senior-queens",
   "metadata": {},
   "outputs": [],
   "source": [
    "cm = confusion_matrix(le.inverse_transform(y_test), le.inverse_transform(predictions))"
   ]
  },
  {
   "cell_type": "code",
   "execution_count": 42,
   "id": "beginning-warren",
   "metadata": {},
   "outputs": [
    {
     "data": {
      "text/plain": [
       "<sklearn.metrics._plot.confusion_matrix.ConfusionMatrixDisplay at 0x251641b47c8>"
      ]
     },
     "execution_count": 42,
     "metadata": {},
     "output_type": "execute_result"
    },
    {
     "data": {
      "image/png": "[encoded data removed]",
      "text/plain": [
       "<Figure size 432x288 with 2 Axes>"
      ]
     },
     "metadata": {
      "needs_background": "light"
     },
     "output_type": "display_data"
    }
   ],
   "source": [
    "disp = ConfusionMatrixDisplay(confusion_matrix=cm, display_labels=le.classes_)\n",
    "disp.plot()"
   ]
  },
  {
   "cell_type": "markdown",
   "id": "technological-thickness",
   "metadata": {},
   "source": [
    "## Random Forest Confusion Matrix"
   ]
  },
  {
   "cell_type": "code",
   "execution_count": 43,
   "id": "numerous-honor",
   "metadata": {},
   "outputs": [],
   "source": [
    "predictions_rf = rf_model.predict(X_test)"
   ]
  },
  {
   "cell_type": "code",
   "execution_count": 44,
   "id": "offensive-walker",
   "metadata": {},
   "outputs": [
    {
     "name": "stdout",
     "output_type": "stream",
     "text": [
      "              precision    recall  f1-score   support\n",
      "\n",
      "         ack       1.00      1.00      1.00         1\n",
      "         dno       1.00      0.71      0.83        14\n",
      "          fa       1.00      0.83      0.91        12\n",
      "          fe       1.00      0.73      0.84        11\n",
      "          fp       0.89      0.62      0.73        13\n",
      "          ft       0.88      0.88      0.88         8\n",
      "           n       1.00      0.78      0.88         9\n",
      "         n-d       0.00      0.00      0.00         1\n",
      "       query       0.75      0.86      0.80         7\n",
      "         sno       0.77      0.99      0.86        73\n",
      "          so       1.00      0.50      0.67         4\n",
      "           y       1.00      0.60      0.75        10\n",
      "         y-d       0.50      0.50      0.50         2\n",
      "\n",
      "    accuracy                           0.84       165\n",
      "   macro avg       0.83      0.69      0.74       165\n",
      "weighted avg       0.86      0.84      0.83       165\n",
      "\n"
     ]
    },
    {
     "name": "stderr",
     "output_type": "stream",
     "text": [
      "c:\\users\\adianidm\\venv\\lib\\site-packages\\sklearn\\metrics\\_classification.py:1318: UndefinedMetricWarning: Precision and F-score are ill-defined and being set to 0.0 in labels with no predicted samples. Use `zero_division` parameter to control this behavior.\n",
      "  _warn_prf(average, modifier, msg_start, len(result))\n",
      "c:\\users\\adianidm\\venv\\lib\\site-packages\\sklearn\\metrics\\_classification.py:1318: UndefinedMetricWarning: Precision and F-score are ill-defined and being set to 0.0 in labels with no predicted samples. Use `zero_division` parameter to control this behavior.\n",
      "  _warn_prf(average, modifier, msg_start, len(result))\n",
      "c:\\users\\adianidm\\venv\\lib\\site-packages\\sklearn\\metrics\\_classification.py:1318: UndefinedMetricWarning: Precision and F-score are ill-defined and being set to 0.0 in labels with no predicted samples. Use `zero_division` parameter to control this behavior.\n",
      "  _warn_prf(average, modifier, msg_start, len(result))\n"
     ]
    }
   ],
   "source": [
    "print(classification_report(le.inverse_transform(y_test), le.inverse_transform(predictions_rf)))"
   ]
  },
  {
   "cell_type": "code",
   "execution_count": 45,
   "id": "partial-measurement",
   "metadata": {},
   "outputs": [
    {
     "data": {
      "text/plain": [
       "<sklearn.metrics._plot.confusion_matrix.ConfusionMatrixDisplay at 0x2516f0aa488>"
      ]
     },
     "execution_count": 45,
     "metadata": {},
     "output_type": "execute_result"
    },
    {
     "data": {
      "image/png": "[encoded data removed]",
      "text/plain": [
       "<Figure size 432x288 with 2 Axes>"
      ]
     },
     "metadata": {
      "needs_background": "light"
     },
     "output_type": "display_data"
    }
   ],
   "source": [
    "cm = confusion_matrix(le.inverse_transform(y_test), le.inverse_transform(predictions_rf))\n",
    "disp = ConfusionMatrixDisplay(confusion_matrix=cm, display_labels=le.classes_)\n",
    "disp.plot()"
   ]
  },
  {
   "cell_type": "code",
   "execution_count": null,
   "id": "hidden-isaac",
   "metadata": {},
   "outputs": [],
   "source": []
  }
 ],
 "metadata": {
  "kernelspec": {
   "display_name": "Python 3",
   "language": "python",
   "name": "python3"
  },
  "language_info": {
   "codemirror_mode": {
    "name": "ipython",
    "version": 3
   },
   "file_extension": ".py",
   "mimetype": "text/x-python",
   "name": "python",
   "nbconvert_exporter": "python",
   "pygments_lexer": "ipython3",
   "version": "3.7.7"
  }
 },
 "nbformat": 4,
 "nbformat_minor": 5
}
