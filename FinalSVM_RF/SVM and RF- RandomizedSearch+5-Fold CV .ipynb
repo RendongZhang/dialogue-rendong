{
 "cells": [
  {
   "cell_type": "markdown",
   "id": "contrary-necklace",
   "metadata": {},
   "source": [
    "## K-Fold on SVM, Random forest\n"
   ]
  },
  {
   "cell_type": "code",
   "execution_count": 1,
   "id": "abandoned-confidentiality",
   "metadata": {},
   "outputs": [],
   "source": [
    "import pickle\n",
    "from sklearn import preprocessing\n",
    "from nltk import word_tokenize\n",
    "import string\n",
    "import csv \n",
    "from sklearn.model_selection import KFold\n",
    "from sklearn import svm\n",
    "import pickle\n",
    "from sklearn.model_selection import train_test_split, GridSearchCV, RandomizedSearchCV\n",
    "from sklearn.metrics import accuracy_score, classification_report, plot_confusion_matrix, confusion_matrix, ConfusionMatrixDisplay, f1_score\n",
    "#from imblearn.over_sampling import SMOTENC, SMOTEN, RandomOverSampler\n",
    "from collections import Counter\n",
    "from sklearn.model_selection import StratifiedKFold\n",
    "from sklearn.ensemble import RandomForestClassifier\n",
    "from sklearn.utils import shuffle\n",
    "\n"
   ]
  },
  {
   "cell_type": "code",
   "execution_count": 2,
   "id": "awful-group",
   "metadata": {},
   "outputs": [],
   "source": [
    "text = []\n",
    "labels = []\n",
    "with open(\"../AllData/appended_dataset_placeholders.csv\", newline=\"\") as f:\n",
    "    reader = csv.reader(f, delimiter=',')\n",
    "    for row in reader:\n",
    "        text.append(row[0].strip())\n",
    "        labels.append(row[1].strip())\n"
   ]
  },
  {
   "cell_type": "code",
   "execution_count": 3,
   "id": "ignored-throat",
   "metadata": {},
   "outputs": [],
   "source": [
    "punctuation= string.punctuation\n",
    "punctuation = punctuation.replace('?', '')\n",
    "punctuation = punctuation.replace(\"'\", '')\n",
    "punctuation = punctuation.replace('{', \"\")\n",
    "punctuation = punctuation.replace(\"}\", \"\")\n",
    "punctuation = punctuation.replace(\"*\", \"\")"
   ]
  },
  {
   "cell_type": "markdown",
   "id": "unauthorized-priority",
   "metadata": {},
   "source": [
    "## Get the vocab and encode the data "
   ]
  },
  {
   "cell_type": "code",
   "execution_count": 4,
   "id": "appreciated-president",
   "metadata": {},
   "outputs": [],
   "source": [
    "vocab = []\n",
    "X_tokens =[]\n",
    "X_text = []\n",
    "for t in text: \n",
    "    #Converting to lowercase\n",
    "    t = t.lower()\n",
    "    #tokenizing the text \n",
    "    t = word_tokenize(t)\n",
    "    #Tokenizing text and removing punctuation at the same time\n",
    "    new_text = [i for i in t if i not in punctuation]\n",
    "    X_text.append(\" \".join(new_text).strip())\n",
    "    X_tokens.append(new_text)\n",
    "    for n in new_text:\n",
    "        if n not in vocab: \n",
    "            vocab.append(n)"
   ]
  },
  {
   "cell_type": "code",
   "execution_count": 5,
   "id": "affecting-waters",
   "metadata": {},
   "outputs": [
    {
     "data": {
      "text/plain": [
       "1306"
      ]
     },
     "execution_count": 5,
     "metadata": {},
     "output_type": "execute_result"
    }
   ],
   "source": [
    "vocab.append(\"<UNK>\")\n",
    "len(vocab) "
   ]
  },
  {
   "cell_type": "code",
   "execution_count": 11,
   "id": "isolated-raleigh",
   "metadata": {},
   "outputs": [],
   "source": [
    "#One-hot encoding the text: feature vector length is the length of the vocab\n",
    "X_encoded =[]\n",
    "for x in X_tokens:\n",
    "    encoded= [0]*len(vocab)\n",
    "    for t in x: \n",
    "        if t in vocab: \n",
    "            encoded[vocab.index(t)]= 1\n",
    "        else:\n",
    "            encoded[vocab.index(\"<UNK>\")] =1\n",
    "    X_encoded.append(encoded)"
   ]
  },
  {
   "cell_type": "code",
   "execution_count": 12,
   "id": "generous-assignment",
   "metadata": {},
   "outputs": [
    {
     "name": "stdout",
     "output_type": "stream",
     "text": [
      "['ack', 'dno', 'fa', 'fe', 'fp', 'ft', 'n', 'n-d', 'query', 'sno', 'so', 'y', 'y-d']\n",
      "Class:  ack\n"
     ]
    }
   ],
   "source": [
    "le = preprocessing.LabelEncoder()\n",
    "le.fit(labels)\n",
    "\n",
    "#the 13 classes as recognized by the label encoder\n",
    "classes= list(le.classes_)\n",
    "print(classes)\n",
    "\n",
    "y_encoded = le.transform(labels)\n",
    "#Label for the first class \n",
    "print(\"Class: \", labels[0])\n",
    "#print(\"Class_encoded: \", y_encoded[0])"
   ]
  },
  {
   "cell_type": "markdown",
   "id": "polar-channel",
   "metadata": {},
   "source": [
    "## Kfold when still text"
   ]
  },
  {
   "cell_type": "code",
   "execution_count": 13,
   "id": "hazardous-mumbai",
   "metadata": {},
   "outputs": [],
   "source": [
    "data_before_kfold = [list(i) for i in list(zip(X_text, labels))]\n",
    "kfold = KFold(n_splits=5, shuffle=True, random_state=47)\n",
    "data_after_kfold = kfold.split(data_before_kfold)\n"
   ]
  },
  {
   "cell_type": "markdown",
   "id": "average-defeat",
   "metadata": {},
   "source": [
    "## Get the best parameters for SVM\n"
   ]
  },
  {
   "cell_type": "code",
   "execution_count": 47,
   "id": "artistic-thing",
   "metadata": {},
   "outputs": [],
   "source": [
    "svc = svm.SVC()"
   ]
  },
  {
   "cell_type": "code",
   "execution_count": 48,
   "id": "given-completion",
   "metadata": {},
   "outputs": [
    {
     "name": "stdout",
     "output_type": "stream",
     "text": [
      "{'kernel': ('linear', 'rbf'), 'C': [10, 20, 30, 40, 50, 60, 70, 80, 90, 100]}\n"
     ]
    }
   ],
   "source": [
    "parameters = {\"kernel\": (\"linear\", \"rbf\"), \"C\": list(range(10,110, 10))}\n",
    "print(parameters)"
   ]
  },
  {
   "cell_type": "code",
   "execution_count": 49,
   "id": "bridal-combine",
   "metadata": {},
   "outputs": [
    {
     "name": "stdout",
     "output_type": "stream",
     "text": [
      "{'kernel': 'rbf', 'C': 10} 0.8197517342095656\n"
     ]
    }
   ],
   "source": [
    "svm_rnd_search = RandomizedSearchCV(svc, parameters, n_iter =20, cv=kfold)\n",
    "svm_rnd_search.fit(X_encoded,y_encoded)\n",
    "\n",
    "print(svm_rnd_search.best_params_, svm_rnd_search.best_score_)\n"
   ]
  },
  {
   "cell_type": "code",
   "execution_count": 50,
   "id": "collected-conference",
   "metadata": {},
   "outputs": [
    {
     "data": {
      "text/plain": [
       "{'kernel': 'rbf', 'C': 10}"
      ]
     },
     "execution_count": 50,
     "metadata": {},
     "output_type": "execute_result"
    }
   ],
   "source": [
    "best_params = svm_rnd_search.best_params_\n",
    "best_params"
   ]
  },
  {
   "cell_type": "code",
   "execution_count": 51,
   "id": "proper-queue",
   "metadata": {},
   "outputs": [],
   "source": [
    "#rnd_search.cv_results_\n"
   ]
  },
  {
   "cell_type": "markdown",
   "id": "adjustable-poison",
   "metadata": {},
   "source": [
    "## Get the data"
   ]
  },
  {
   "cell_type": "code",
   "execution_count": 52,
   "id": "induced-chrome",
   "metadata": {},
   "outputs": [],
   "source": [
    "#kfold_split_data = [] \n",
    "#models = []\n",
    "\n",
    "data_train= [] #To save to use for BERT\n",
    "data_train_encoded=[]\n",
    "data_test = []\n",
    "data_test_encoded =[]\n",
    "for train, test in data_after_kfold:\n",
    "    train_decoded = [data_before_kfold[i] for i in train]\n",
    "    test_decoded = [data_before_kfold[i] for i in test]\n",
    "    X_train = [i[0] for i in train_decoded ]\n",
    "    y_train = [i[1] for i in train_decoded ]\n",
    "    #print(y_train)\n",
    "    \n",
    "    X_train_encoded=[X_encoded[i] for i in train]\n",
    "    y_train_encoded = le.transform(y_train)\n",
    "    data_train.append([X_train,y_train])\n",
    "    data_train_encoded.append([X_train_encoded, y_train_encoded])\n",
    "    \n",
    "    print(len(Counter(y_train)))\n",
    "    \n",
    "    print(\"Distribution\", Counter(y_train))\n",
    "    X_test = [i[0] for i in test_decoded]\n",
    "    y_test = [i[1] for i in test_decoded]\n",
    "    print(len(Counter(y_test)))\n",
    "    \n",
    "    X_test_encoded = [ X_encoded[i] for i in test]\n",
    "    y_test_encoded = le.transform(y_test)\n",
    "    \n",
    "    data_test.append([X_test,y_test])\n",
    "    data_test_encoded.append([X_test_encoded, y_test_encoded])\n",
    "    \n",
    "    print(\"Distribution\", Counter(y_test))\n"
   ]
  },
  {
   "cell_type": "markdown",
   "id": "monetary-backup",
   "metadata": {},
   "source": [
    "## Saving the KFold data Splits for BERT"
   ]
  },
  {
   "cell_type": "code",
   "execution_count": 53,
   "id": "abandoned-freeware",
   "metadata": {},
   "outputs": [
    {
     "data": {
      "text/plain": [
       "'for i in range(5):\\n    with open(\"../FinalBERT/Data/split_train_\"+str(i)+\".csv\", \"w\", newline=\\'\\') as csvf:\\n        writer = csv.writer(csvf, delimiter=\\',\\')\\n        writer.writerow([\"text\", \"label\"])\\n        for l in range(len(data_train[i][0])):\\n            writer.writerow([data_train[i][0][l], data_train_encoded[i][1][l]])\\n            \\n    with open(\"../FinalBERT/Data/split_test_\"+str(i)+\".csv\", \"w\", newline=\\'\\') as csvf:\\n        writer = csv.writer(csvf, delimiter=\\',\\')\\n        writer.writerow([\"text\", \"label\"])\\n        for l in range(len(data_test[i][0])):\\n            writer.writerow([data_test[i][0][l], data_test_encoded[i][1][l]])'"
      ]
     },
     "execution_count": 53,
     "metadata": {},
     "output_type": "execute_result"
    }
   ],
   "source": [
    "\"\"\"for i in range(5):\n",
    "    with open(\"../FinalBERT/Data/split_train_\"+str(i)+\".csv\", \"w\", newline='') as csvf:\n",
    "        writer = csv.writer(csvf, delimiter=',')\n",
    "        writer.writerow([\"text\", \"label\"])\n",
    "        for l in range(len(data_train[i][0])):\n",
    "            writer.writerow([data_train[i][0][l], data_train_encoded[i][1][l]])\n",
    "            \n",
    "    with open(\"../FinalBERT/Data/split_test_\"+str(i)+\".csv\", \"w\", newline='') as csvf:\n",
    "        writer = csv.writer(csvf, delimiter=',')\n",
    "        writer.writerow([\"text\", \"label\"])\n",
    "        for l in range(len(data_test[i][0])):\n",
    "            writer.writerow([data_test[i][0][l], data_test_encoded[i][1][l]])\"\"\""
   ]
  },
  {
   "cell_type": "markdown",
   "id": "floppy-definition",
   "metadata": {},
   "source": [
    "#### Best params from the paper to reproduce the same results "
   ]
  },
  {
   "cell_type": "code",
   "execution_count": 54,
   "id": "impressed-springfield",
   "metadata": {},
   "outputs": [],
   "source": [
    "#Comment out when not needed\n",
    "best_params = {'kernel': 'rbf', 'C': 10} "
   ]
  },
  {
   "cell_type": "markdown",
   "id": "minute-buyer",
   "metadata": {},
   "source": [
    "## SVM \n"
   ]
  },
  {
   "cell_type": "code",
   "execution_count": 24,
   "id": "young-cleaners",
   "metadata": {},
   "outputs": [
    {
     "name": "stdout",
     "output_type": "stream",
     "text": [
      "-------------------------------Model 0--------------------------------\n"
     ]
    },
    {
     "name": "stderr",
     "output_type": "stream",
     "text": [
      "c:\\users\\adianidm\\venv\\lib\\site-packages\\sklearn\\metrics\\_classification.py:1318: UndefinedMetricWarning: Precision and F-score are ill-defined and being set to 0.0 in labels with no predicted samples. Use `zero_division` parameter to control this behavior.\n",
      "  _warn_prf(average, modifier, msg_start, len(result))\n",
      "c:\\users\\adianidm\\venv\\lib\\site-packages\\sklearn\\metrics\\_classification.py:1318: UndefinedMetricWarning: Precision and F-score are ill-defined and being set to 0.0 in labels with no predicted samples. Use `zero_division` parameter to control this behavior.\n",
      "  _warn_prf(average, modifier, msg_start, len(result))\n",
      "c:\\users\\adianidm\\venv\\lib\\site-packages\\sklearn\\metrics\\_classification.py:1318: UndefinedMetricWarning: Precision and F-score are ill-defined and being set to 0.0 in labels with no predicted samples. Use `zero_division` parameter to control this behavior.\n",
      "  _warn_prf(average, modifier, msg_start, len(result))\n"
     ]
    },
    {
     "name": "stdout",
     "output_type": "stream",
     "text": [
      "              precision    recall  f1-score   support\n",
      "\n",
      "         ack       1.00      0.67      0.80         3\n",
      "         dno       1.00      0.80      0.89         5\n",
      "          fa       1.00      1.00      1.00         6\n",
      "          fe       1.00      0.62      0.76        13\n",
      "          fp       0.89      0.89      0.89         9\n",
      "          ft       1.00      0.90      0.95        10\n",
      "           n       0.81      1.00      0.90        13\n",
      "         n-d       0.00      0.00      0.00         2\n",
      "       query       0.80      1.00      0.89         4\n",
      "         sno       0.82      0.96      0.89        83\n",
      "          so       1.00      0.20      0.33         5\n",
      "           y       0.89      1.00      0.94         8\n",
      "         y-d       0.00      0.00      0.00         5\n",
      "\n",
      "    accuracy                           0.86       166\n",
      "   macro avg       0.79      0.69      0.71       166\n",
      "weighted avg       0.84      0.86      0.83       166\n",
      "\n",
      "-------------------------------Model 1--------------------------------\n"
     ]
    },
    {
     "name": "stderr",
     "output_type": "stream",
     "text": [
      "c:\\users\\adianidm\\venv\\lib\\site-packages\\sklearn\\metrics\\_classification.py:1318: UndefinedMetricWarning: Precision and F-score are ill-defined and being set to 0.0 in labels with no predicted samples. Use `zero_division` parameter to control this behavior.\n",
      "  _warn_prf(average, modifier, msg_start, len(result))\n",
      "c:\\users\\adianidm\\venv\\lib\\site-packages\\sklearn\\metrics\\_classification.py:1318: UndefinedMetricWarning: Precision and F-score are ill-defined and being set to 0.0 in labels with no predicted samples. Use `zero_division` parameter to control this behavior.\n",
      "  _warn_prf(average, modifier, msg_start, len(result))\n",
      "c:\\users\\adianidm\\venv\\lib\\site-packages\\sklearn\\metrics\\_classification.py:1318: UndefinedMetricWarning: Precision and F-score are ill-defined and being set to 0.0 in labels with no predicted samples. Use `zero_division` parameter to control this behavior.\n",
      "  _warn_prf(average, modifier, msg_start, len(result))\n"
     ]
    },
    {
     "name": "stdout",
     "output_type": "stream",
     "text": [
      "              precision    recall  f1-score   support\n",
      "\n",
      "         ack       0.00      0.00      0.00         1\n",
      "         dno       1.00      0.50      0.67         6\n",
      "          fa       1.00      0.90      0.95        10\n",
      "          fe       1.00      0.73      0.84        11\n",
      "          fp       0.87      0.87      0.87        15\n",
      "          ft       1.00      1.00      1.00         6\n",
      "           n       0.91      1.00      0.95        10\n",
      "         n-d       0.00      0.00      0.00         2\n",
      "       query       1.00      0.80      0.89         5\n",
      "         sno       0.81      0.96      0.88        81\n",
      "          so       1.00      0.17      0.29         6\n",
      "           y       0.67      1.00      0.80         8\n",
      "         y-d       0.00      0.00      0.00         5\n",
      "\n",
      "    accuracy                           0.84       166\n",
      "   macro avg       0.71      0.61      0.63       166\n",
      "weighted avg       0.83      0.84      0.81       166\n",
      "\n",
      "-------------------------------Model 2--------------------------------\n"
     ]
    },
    {
     "name": "stderr",
     "output_type": "stream",
     "text": [
      "c:\\users\\adianidm\\venv\\lib\\site-packages\\sklearn\\metrics\\_classification.py:1318: UndefinedMetricWarning: Precision and F-score are ill-defined and being set to 0.0 in labels with no predicted samples. Use `zero_division` parameter to control this behavior.\n",
      "  _warn_prf(average, modifier, msg_start, len(result))\n",
      "c:\\users\\adianidm\\venv\\lib\\site-packages\\sklearn\\metrics\\_classification.py:1318: UndefinedMetricWarning: Precision and F-score are ill-defined and being set to 0.0 in labels with no predicted samples. Use `zero_division` parameter to control this behavior.\n",
      "  _warn_prf(average, modifier, msg_start, len(result))\n",
      "c:\\users\\adianidm\\venv\\lib\\site-packages\\sklearn\\metrics\\_classification.py:1318: UndefinedMetricWarning: Precision and F-score are ill-defined and being set to 0.0 in labels with no predicted samples. Use `zero_division` parameter to control this behavior.\n",
      "  _warn_prf(average, modifier, msg_start, len(result))\n"
     ]
    },
    {
     "name": "stdout",
     "output_type": "stream",
     "text": [
      "              precision    recall  f1-score   support\n",
      "\n",
      "         ack       1.00      1.00      1.00         1\n",
      "         dno       1.00      0.71      0.83        14\n",
      "          fa       1.00      0.83      0.91        12\n",
      "          fe       1.00      0.73      0.84        11\n",
      "          fp       0.79      0.85      0.81        13\n",
      "          ft       0.89      1.00      0.94         8\n",
      "           n       1.00      0.89      0.94         9\n",
      "         n-d       0.00      0.00      0.00         1\n",
      "       query       0.86      0.86      0.86         7\n",
      "         sno       0.80      0.96      0.87        73\n",
      "          so       0.67      0.50      0.57         4\n",
      "           y       1.00      0.60      0.75        10\n",
      "         y-d       0.00      0.00      0.00         2\n",
      "\n",
      "    accuracy                           0.85       165\n",
      "   macro avg       0.77      0.69      0.72       165\n",
      "weighted avg       0.85      0.85      0.84       165\n",
      "\n",
      "-------------------------------Model 3--------------------------------\n"
     ]
    },
    {
     "name": "stderr",
     "output_type": "stream",
     "text": [
      "c:\\users\\adianidm\\venv\\lib\\site-packages\\sklearn\\metrics\\_classification.py:1318: UndefinedMetricWarning: Precision and F-score are ill-defined and being set to 0.0 in labels with no predicted samples. Use `zero_division` parameter to control this behavior.\n",
      "  _warn_prf(average, modifier, msg_start, len(result))\n",
      "c:\\users\\adianidm\\venv\\lib\\site-packages\\sklearn\\metrics\\_classification.py:1318: UndefinedMetricWarning: Precision and F-score are ill-defined and being set to 0.0 in labels with no predicted samples. Use `zero_division` parameter to control this behavior.\n",
      "  _warn_prf(average, modifier, msg_start, len(result))\n",
      "c:\\users\\adianidm\\venv\\lib\\site-packages\\sklearn\\metrics\\_classification.py:1318: UndefinedMetricWarning: Precision and F-score are ill-defined and being set to 0.0 in labels with no predicted samples. Use `zero_division` parameter to control this behavior.\n",
      "  _warn_prf(average, modifier, msg_start, len(result))\n"
     ]
    },
    {
     "name": "stdout",
     "output_type": "stream",
     "text": [
      "              precision    recall  f1-score   support\n",
      "\n",
      "         ack       1.00      0.20      0.33         5\n",
      "         dno       0.88      0.78      0.82         9\n",
      "          fa       1.00      0.80      0.89         5\n",
      "          fe       0.75      0.75      0.75         8\n",
      "          fp       0.55      0.60      0.57        10\n",
      "          ft       1.00      1.00      1.00         8\n",
      "           n       0.55      0.86      0.67         7\n",
      "         n-d       0.00      0.00      0.00         3\n",
      "       query       0.78      0.70      0.74        10\n",
      "         sno       0.75      0.91      0.82        75\n",
      "          so       0.00      0.00      0.00         7\n",
      "           y       1.00      0.79      0.88        14\n",
      "         y-d       1.00      0.25      0.40         4\n",
      "\n",
      "    accuracy                           0.76       165\n",
      "   macro avg       0.71      0.59      0.61       165\n",
      "weighted avg       0.75      0.76      0.73       165\n",
      "\n",
      "-------------------------------Model 4--------------------------------\n"
     ]
    },
    {
     "name": "stderr",
     "output_type": "stream",
     "text": [
      "c:\\users\\adianidm\\venv\\lib\\site-packages\\sklearn\\metrics\\_classification.py:1318: UndefinedMetricWarning: Precision and F-score are ill-defined and being set to 0.0 in labels with no predicted samples. Use `zero_division` parameter to control this behavior.\n",
      "  _warn_prf(average, modifier, msg_start, len(result))\n",
      "c:\\users\\adianidm\\venv\\lib\\site-packages\\sklearn\\metrics\\_classification.py:1318: UndefinedMetricWarning: Precision and F-score are ill-defined and being set to 0.0 in labels with no predicted samples. Use `zero_division` parameter to control this behavior.\n",
      "  _warn_prf(average, modifier, msg_start, len(result))\n",
      "c:\\users\\adianidm\\venv\\lib\\site-packages\\sklearn\\metrics\\_classification.py:1318: UndefinedMetricWarning: Precision and F-score are ill-defined and being set to 0.0 in labels with no predicted samples. Use `zero_division` parameter to control this behavior.\n",
      "  _warn_prf(average, modifier, msg_start, len(result))\n"
     ]
    },
    {
     "name": "stdout",
     "output_type": "stream",
     "text": [
      "              precision    recall  f1-score   support\n",
      "\n",
      "         ack       1.00      0.33      0.50         3\n",
      "         dno       1.00      0.70      0.82        10\n",
      "          fa       1.00      0.78      0.88         9\n",
      "          fe       0.67      0.60      0.63        10\n",
      "          fp       0.92      0.75      0.83        16\n",
      "          ft       0.90      1.00      0.95         9\n",
      "           n       1.00      0.80      0.89        10\n",
      "         n-d       0.00      0.00      0.00         2\n",
      "       query       0.83      0.62      0.71         8\n",
      "         sno       0.71      0.97      0.82        69\n",
      "          so       0.00      0.00      0.00         8\n",
      "           y       0.89      0.80      0.84        10\n",
      "         y-d       0.00      0.00      0.00         1\n",
      "\n",
      "    accuracy                           0.79       165\n",
      "   macro avg       0.69      0.57      0.61       165\n",
      "weighted avg       0.77      0.79      0.76       165\n",
      "\n"
     ]
    },
    {
     "data": {
      "image/png": "[encoded data removed]",
      "text/plain": [
       "<Figure size 432x288 with 2 Axes>"
      ]
     },
     "metadata": {
      "needs_background": "light"
     },
     "output_type": "display_data"
    },
    {
     "data": {
      "image/png": "[encoded data removed]",
      "text/plain": [
       "<Figure size 432x288 with 2 Axes>"
      ]
     },
     "metadata": {
      "needs_background": "light"
     },
     "output_type": "display_data"
    },
    {
     "data": {
      "image/png": "[encoded data removed]",
      "text/plain": [
       "<Figure size 432x288 with 2 Axes>"
      ]
     },
     "metadata": {
      "needs_background": "light"
     },
     "output_type": "display_data"
    },
    {
     "data": {
      "image/png": "[encoded data removed]",
      "text/plain": [
       "<Figure size 432x288 with 2 Axes>"
      ]
     },
     "metadata": {
      "needs_background": "light"
     },
     "output_type": "display_data"
    },
    {
     "data": {
      "image/png": "[encoded data removed]",
      "text/plain": [
       "<Figure size 432x288 with 2 Axes>"
      ]
     },
     "metadata": {
      "needs_background": "light"
     },
     "output_type": "display_data"
    }
   ],
   "source": [
    "models = []\n",
    "predictions =[]\n",
    "scores = []\n",
    "f1_scores = []\n",
    "for i in range(len(data_train_encoded)):\n",
    "    print(\"-------------------------------Model \"+ str(i)+\"--------------------------------\")\n",
    "    training_data = data_train_encoded[i]\n",
    "    X_train_en = training_data[0]\n",
    "    #print(len(X_train_en))\n",
    "    y_train_en = training_data[1]\n",
    "    #print(len(X_test_en))\n",
    "    test_data = data_test_encoded[i]\n",
    "    X_test_en = test_data[0]\n",
    "    #print(\"X_test\", len(X_test_en))\n",
    "    y_test_en = test_data[1]\n",
    "    #print(len(y_test_en))\n",
    "    \n",
    "    svc = svm.SVC(kernel=best_params['kernel'], C=best_params['C'])\n",
    "    svc.fit(X_train_en, y_train_en)\n",
    "    models.append(svc)\n",
    "    #print(\"X_test:\", len(X_test_en))\n",
    "    y_pred = svc.predict(X_test_en)\n",
    "    #print(len(y_pred))\n",
    "    predictions.append(y_pred)\n",
    "    scores.append(accuracy_score(y_test_en, y_pred))\n",
    "    f1_scores.append(f1_score(y_test_en, y_pred,average='macro'))\n",
    "    print(classification_report(le.inverse_transform(y_test_en), le.inverse_transform(y_pred)))\n",
    "    print(\"-------------------------------Model \"+ str(i)+\"--------------------------------\")\n",
    "\n",
    "    cm = confusion_matrix(le.inverse_transform(y_test_en), le.inverse_transform(y_pred))    \n",
    "    disp = ConfusionMatrixDisplay(confusion_matrix=cm, display_labels=le.classes_)\n",
    "    disp.plot()\n",
    "    "
   ]
  },
  {
   "cell_type": "code",
   "execution_count": 25,
   "id": "disturbed-leeds",
   "metadata": {
    "scrolled": true
   },
   "outputs": [
    {
     "data": {
      "text/plain": [
       "[0.8614457831325302,\n",
       " 0.8433734939759037,\n",
       " 0.8484848484848485,\n",
       " 0.7575757575757576,\n",
       " 0.7878787878787878]"
      ]
     },
     "execution_count": 25,
     "metadata": {},
     "output_type": "execute_result"
    }
   ],
   "source": [
    "scores"
   ]
  },
  {
   "cell_type": "code",
   "execution_count": 26,
   "id": "synthetic-reply",
   "metadata": {},
   "outputs": [
    {
     "data": {
      "text/plain": [
       "[0.71045309742865,\n",
       " 0.6254728520562598,\n",
       " 0.7176795313489349,\n",
       " 0.605382006598389,\n",
       " 0.6055714417681046]"
      ]
     },
     "execution_count": 26,
     "metadata": {},
     "output_type": "execute_result"
    }
   ],
   "source": [
    "f1_scores"
   ]
  },
  {
   "cell_type": "code",
   "execution_count": 27,
   "id": "ultimate-aerospace",
   "metadata": {},
   "outputs": [
    {
     "data": {
      "text/plain": [
       "0.8197517342095656"
      ]
     },
     "execution_count": 27,
     "metadata": {},
     "output_type": "execute_result"
    }
   ],
   "source": [
    "sum(scores)/5"
   ]
  },
  {
   "cell_type": "code",
   "execution_count": 28,
   "id": "compliant-performer",
   "metadata": {},
   "outputs": [
    {
     "data": {
      "text/plain": [
       "0.6529117858400677"
      ]
     },
     "execution_count": 28,
     "metadata": {},
     "output_type": "execute_result"
    }
   ],
   "source": [
    "sum(f1_scores)/5"
   ]
  },
  {
   "cell_type": "markdown",
   "id": "geographic-senegal",
   "metadata": {},
   "source": [
    "## Random Forest"
   ]
  },
  {
   "cell_type": "code",
   "execution_count": 29,
   "id": "ordered-expansion",
   "metadata": {},
   "outputs": [],
   "source": [
    "#from sklearn.model_selection import RandomizedSearchCV\n",
    "import numpy as np\n",
    "# Number of trees in random forest\n",
    "n_estimators = [x for x in range(10, 200, 10)]\n",
    "# Number of features to consider at every split\n",
    "max_features = ('auto', 'sqrt')\n",
    "# Maximum number of levels in tree\n",
    "max_depth = [10, 20, 30, 40, 50, 60, 70, 80, 90, 100, 110, None]\n",
    "# Minimum number of samples required to split a node\n",
    "min_samples_split = [1, 2, 3, 4, 5, 6, 7, 8, 9, 10]\n",
    "# Minimum number of samples required at each leaf node\n",
    "min_samples_leaf = [1, 2, 4]\n",
    "# Method of selecting samples for training each tree\n",
    "bootstrap = (True, False)\n",
    "# Create the random grid\n",
    "random_grid = {'n_estimators': n_estimators,\n",
    "               'max_features': max_features,\n",
    "               'max_depth': max_depth,\n",
    "               'min_samples_split': min_samples_split,\n",
    "               'min_samples_leaf': min_samples_leaf,\n",
    "               'bootstrap': bootstrap}"
   ]
  },
  {
   "cell_type": "code",
   "execution_count": 30,
   "id": "pacific-immigration",
   "metadata": {},
   "outputs": [
    {
     "data": {
      "text/plain": [
       "{'n_estimators': [10,\n",
       "  20,\n",
       "  30,\n",
       "  40,\n",
       "  50,\n",
       "  60,\n",
       "  70,\n",
       "  80,\n",
       "  90,\n",
       "  100,\n",
       "  110,\n",
       "  120,\n",
       "  130,\n",
       "  140,\n",
       "  150,\n",
       "  160,\n",
       "  170,\n",
       "  180,\n",
       "  190],\n",
       " 'max_features': ('auto', 'sqrt'),\n",
       " 'max_depth': [10, 20, 30, 40, 50, 60, 70, 80, 90, 100, 110, None],\n",
       " 'min_samples_split': [1, 2, 3, 4, 5, 6, 7, 8, 9, 10],\n",
       " 'min_samples_leaf': [1, 2, 4],\n",
       " 'bootstrap': (True, False)}"
      ]
     },
     "execution_count": 30,
     "metadata": {},
     "output_type": "execute_result"
    }
   ],
   "source": [
    "random_grid"
   ]
  },
  {
   "cell_type": "code",
   "execution_count": 31,
   "id": "pursuant-conditions",
   "metadata": {},
   "outputs": [
    {
     "name": "stderr",
     "output_type": "stream",
     "text": [
      "c:\\users\\adianidm\\venv\\lib\\site-packages\\sklearn\\model_selection\\_validation.py:372: FitFailedWarning: \n",
      "20 fits failed out of a total of 250.\n",
      "The score on these train-test partitions for these parameters will be set to nan.\n",
      "If these failures are not expected, you can try to debug them by setting error_score='raise'.\n",
      "\n",
      "Below are more details about the failures:\n",
      "--------------------------------------------------------------------------------\n",
      "20 fits failed with the following error:\n",
      "Traceback (most recent call last):\n",
      "  File \"c:\\users\\adianidm\\venv\\lib\\site-packages\\sklearn\\model_selection\\_validation.py\", line 680, in _fit_and_score\n",
      "    estimator.fit(X_train, y_train, **fit_params)\n",
      "  File \"c:\\users\\adianidm\\venv\\lib\\site-packages\\sklearn\\ensemble\\_forest.py\", line 467, in fit\n",
      "    for i, t in enumerate(trees)\n",
      "  File \"c:\\users\\adianidm\\venv\\lib\\site-packages\\joblib\\parallel.py\", line 1041, in __call__\n",
      "    if self.dispatch_one_batch(iterator):\n",
      "  File \"c:\\users\\adianidm\\venv\\lib\\site-packages\\joblib\\parallel.py\", line 859, in dispatch_one_batch\n",
      "    self._dispatch(tasks)\n",
      "  File \"c:\\users\\adianidm\\venv\\lib\\site-packages\\joblib\\parallel.py\", line 777, in _dispatch\n",
      "    job = self._backend.apply_async(batch, callback=cb)\n",
      "  File \"c:\\users\\adianidm\\venv\\lib\\site-packages\\joblib\\_parallel_backends.py\", line 208, in apply_async\n",
      "    result = ImmediateResult(func)\n",
      "  File \"c:\\users\\adianidm\\venv\\lib\\site-packages\\joblib\\_parallel_backends.py\", line 572, in __init__\n",
      "    self.results = batch()\n",
      "  File \"c:\\users\\adianidm\\venv\\lib\\site-packages\\joblib\\parallel.py\", line 263, in __call__\n",
      "    for func, args, kwargs in self.items]\n",
      "  File \"c:\\users\\adianidm\\venv\\lib\\site-packages\\joblib\\parallel.py\", line 263, in <listcomp>\n",
      "    for func, args, kwargs in self.items]\n",
      "  File \"c:\\users\\adianidm\\venv\\lib\\site-packages\\sklearn\\utils\\fixes.py\", line 216, in __call__\n",
      "    return self.function(*args, **kwargs)\n",
      "  File \"c:\\users\\adianidm\\venv\\lib\\site-packages\\sklearn\\ensemble\\_forest.py\", line 187, in _parallel_build_trees\n",
      "    tree.fit(X, y, sample_weight=sample_weight, check_input=False)\n",
      "  File \"c:\\users\\adianidm\\venv\\lib\\site-packages\\sklearn\\tree\\_classes.py\", line 942, in fit\n",
      "    X_idx_sorted=X_idx_sorted,\n",
      "  File \"c:\\users\\adianidm\\venv\\lib\\site-packages\\sklearn\\tree\\_classes.py\", line 254, in fit\n",
      "    % self.min_samples_split\n",
      "ValueError: min_samples_split must be an integer greater than 1 or a float in (0.0, 1.0]; got the integer 1\n",
      "\n",
      "  warnings.warn(some_fits_failed_message, FitFailedWarning)\n",
      "c:\\users\\adianidm\\venv\\lib\\site-packages\\sklearn\\model_selection\\_search.py:972: UserWarning: One or more of the test scores are non-finite: [0.71214312 0.64686382 0.52350493 0.71456006 0.50050383 0.70128514\n",
      " 0.7931946  0.68799562 0.6456663  0.6637824  0.72064257 0.64684922\n",
      " 0.63476451 0.71819642 0.74723622 0.76056955 0.74119752        nan\n",
      " 0.54289887        nan 0.53074115 0.52714859 0.74117561 0.73758306\n",
      "        nan 0.52960204 0.55136181 0.54412559 0.74967506 0.78835341\n",
      " 0.77988317 0.74480467 0.52707558 0.51505659 0.55491785 0.73637824\n",
      " 0.6456517  0.74117561 0.64926616 0.64563709 0.66993063 0.75691858\n",
      " 0.78472435 0.52838992 0.6577437  0.79561154 0.52474626 0.78233662\n",
      "        nan 0.76901789]\n",
      "  category=UserWarning,\n"
     ]
    },
    {
     "data": {
      "text/plain": [
       "RandomizedSearchCV(cv=KFold(n_splits=5, random_state=47, shuffle=True),\n",
       "                   estimator=RandomForestClassifier(), n_iter=50,\n",
       "                   param_distributions={'bootstrap': (True, False),\n",
       "                                        'max_depth': [10, 20, 30, 40, 50, 60,\n",
       "                                                      70, 80, 90, 100, 110,\n",
       "                                                      None],\n",
       "                                        'max_features': ('auto', 'sqrt'),\n",
       "                                        'min_samples_leaf': [1, 2, 4],\n",
       "                                        'min_samples_split': [1, 2, 3, 4, 5, 6,\n",
       "                                                              7, 8, 9, 10],\n",
       "                                        'n_estimators': [10, 20, 30, 40, 50, 60,\n",
       "                                                         70, 80, 90, 100, 110,\n",
       "                                                         120, 130, 140, 150,\n",
       "                                                         160, 170, 180, 190]})"
      ]
     },
     "execution_count": 31,
     "metadata": {},
     "output_type": "execute_result"
    }
   ],
   "source": [
    "rf_clf = RandomForestClassifier()\n",
    "rnd_search = RandomizedSearchCV(rf_clf, random_grid, n_iter =50, cv=kfold)\n",
    "rnd_search.fit(X_encoded,y_encoded)\n",
    "\n"
   ]
  },
  {
   "cell_type": "code",
   "execution_count": 32,
   "id": "commercial-edwards",
   "metadata": {},
   "outputs": [],
   "source": [
    "rf_best_params = rnd_search.best_params_\n",
    "rf_best_score = rnd_search.best_score_"
   ]
  },
  {
   "cell_type": "code",
   "execution_count": 33,
   "id": "numerous-detroit",
   "metadata": {},
   "outputs": [
    {
     "name": "stdout",
     "output_type": "stream",
     "text": [
      "Best_params {'n_estimators': 180, 'min_samples_split': 8, 'min_samples_leaf': 1, 'max_features': 'auto', 'max_depth': 110, 'bootstrap': False}\n",
      "Best_score 0.7956115370573202\n"
     ]
    }
   ],
   "source": [
    "print(\"Best_params\", rf_best_params)\n",
    "print(\"Best_score\", rf_best_score)"
   ]
  },
  {
   "cell_type": "code",
   "execution_count": 55,
   "id": "large-memorabilia",
   "metadata": {},
   "outputs": [],
   "source": [
    "#rnd_search.cv_results_"
   ]
  },
  {
   "cell_type": "markdown",
   "id": "serious-acting",
   "metadata": {},
   "source": [
    "#### Best params from the paper to reproduce the same results "
   ]
  },
  {
   "cell_type": "code",
   "execution_count": 40,
   "id": "starting-hopkins",
   "metadata": {},
   "outputs": [],
   "source": [
    "## Comment out when not needed\n",
    "rf_best_params = {'n_estimators': 190, \n",
    "               'min_samples_split': 10, \n",
    "               'min_samples_leaf': 1, \n",
    "               'max_features': 'sqrt', \n",
    "               'max_depth': 70, \n",
    "               'bootstrap': False}"
   ]
  },
  {
   "cell_type": "code",
   "execution_count": 41,
   "id": "humanitarian-politics",
   "metadata": {},
   "outputs": [
    {
     "name": "stderr",
     "output_type": "stream",
     "text": [
      "c:\\users\\adianidm\\venv\\lib\\site-packages\\sklearn\\metrics\\_classification.py:1318: UndefinedMetricWarning: Precision and F-score are ill-defined and being set to 0.0 in labels with no predicted samples. Use `zero_division` parameter to control this behavior.\n",
      "  _warn_prf(average, modifier, msg_start, len(result))\n",
      "c:\\users\\adianidm\\venv\\lib\\site-packages\\sklearn\\metrics\\_classification.py:1318: UndefinedMetricWarning: Precision and F-score are ill-defined and being set to 0.0 in labels with no predicted samples. Use `zero_division` parameter to control this behavior.\n",
      "  _warn_prf(average, modifier, msg_start, len(result))\n",
      "c:\\users\\adianidm\\venv\\lib\\site-packages\\sklearn\\metrics\\_classification.py:1318: UndefinedMetricWarning: Precision and F-score are ill-defined and being set to 0.0 in labels with no predicted samples. Use `zero_division` parameter to control this behavior.\n",
      "  _warn_prf(average, modifier, msg_start, len(result))\n"
     ]
    },
    {
     "name": "stdout",
     "output_type": "stream",
     "text": [
      "              precision    recall  f1-score   support\n",
      "\n",
      "         ack       1.00      0.33      0.50         3\n",
      "         dno       0.80      0.80      0.80         5\n",
      "          fa       1.00      0.83      0.91         6\n",
      "          fe       1.00      0.62      0.76        13\n",
      "          fp       0.88      0.78      0.82         9\n",
      "          ft       1.00      0.80      0.89        10\n",
      "           n       0.83      0.77      0.80        13\n",
      "         n-d       0.00      0.00      0.00         2\n",
      "       query       0.75      0.75      0.75         4\n",
      "         sno       0.75      0.96      0.85        83\n",
      "          so       0.00      0.00      0.00         5\n",
      "           y       0.89      1.00      0.94         8\n",
      "         y-d       0.00      0.00      0.00         5\n",
      "\n",
      "    accuracy                           0.81       166\n",
      "   macro avg       0.68      0.59      0.62       166\n",
      "weighted avg       0.77      0.81      0.77       166\n",
      "\n"
     ]
    },
    {
     "name": "stderr",
     "output_type": "stream",
     "text": [
      "c:\\users\\adianidm\\venv\\lib\\site-packages\\sklearn\\metrics\\_classification.py:1318: UndefinedMetricWarning: Precision and F-score are ill-defined and being set to 0.0 in labels with no predicted samples. Use `zero_division` parameter to control this behavior.\n",
      "  _warn_prf(average, modifier, msg_start, len(result))\n",
      "c:\\users\\adianidm\\venv\\lib\\site-packages\\sklearn\\metrics\\_classification.py:1318: UndefinedMetricWarning: Precision and F-score are ill-defined and being set to 0.0 in labels with no predicted samples. Use `zero_division` parameter to control this behavior.\n",
      "  _warn_prf(average, modifier, msg_start, len(result))\n",
      "c:\\users\\adianidm\\venv\\lib\\site-packages\\sklearn\\metrics\\_classification.py:1318: UndefinedMetricWarning: Precision and F-score are ill-defined and being set to 0.0 in labels with no predicted samples. Use `zero_division` parameter to control this behavior.\n",
      "  _warn_prf(average, modifier, msg_start, len(result))\n"
     ]
    },
    {
     "name": "stdout",
     "output_type": "stream",
     "text": [
      "              precision    recall  f1-score   support\n",
      "\n",
      "         ack       0.00      0.00      0.00         1\n",
      "         dno       0.60      0.50      0.55         6\n",
      "          fa       1.00      0.60      0.75        10\n",
      "          fe       0.80      0.73      0.76        11\n",
      "          fp       1.00      0.80      0.89        15\n",
      "          ft       1.00      1.00      1.00         6\n",
      "           n       0.88      0.70      0.78        10\n",
      "         n-d       0.00      0.00      0.00         2\n",
      "       query       0.75      0.60      0.67         5\n",
      "         sno       0.76      0.95      0.85        81\n",
      "          so       1.00      0.17      0.29         6\n",
      "           y       0.67      1.00      0.80         8\n",
      "         y-d       0.00      0.00      0.00         5\n",
      "\n",
      "    accuracy                           0.79       166\n",
      "   macro avg       0.65      0.54      0.56       166\n",
      "weighted avg       0.78      0.79      0.76       166\n",
      "\n"
     ]
    },
    {
     "name": "stderr",
     "output_type": "stream",
     "text": [
      "c:\\users\\adianidm\\venv\\lib\\site-packages\\sklearn\\metrics\\_classification.py:1318: UndefinedMetricWarning: Precision and F-score are ill-defined and being set to 0.0 in labels with no predicted samples. Use `zero_division` parameter to control this behavior.\n",
      "  _warn_prf(average, modifier, msg_start, len(result))\n",
      "c:\\users\\adianidm\\venv\\lib\\site-packages\\sklearn\\metrics\\_classification.py:1318: UndefinedMetricWarning: Precision and F-score are ill-defined and being set to 0.0 in labels with no predicted samples. Use `zero_division` parameter to control this behavior.\n",
      "  _warn_prf(average, modifier, msg_start, len(result))\n",
      "c:\\users\\adianidm\\venv\\lib\\site-packages\\sklearn\\metrics\\_classification.py:1318: UndefinedMetricWarning: Precision and F-score are ill-defined and being set to 0.0 in labels with no predicted samples. Use `zero_division` parameter to control this behavior.\n",
      "  _warn_prf(average, modifier, msg_start, len(result))\n"
     ]
    },
    {
     "name": "stdout",
     "output_type": "stream",
     "text": [
      "              precision    recall  f1-score   support\n",
      "\n",
      "         ack       1.00      1.00      1.00         1\n",
      "         dno       1.00      0.71      0.83        14\n",
      "          fa       1.00      0.83      0.91        12\n",
      "          fe       1.00      0.73      0.84        11\n",
      "          fp       0.89      0.62      0.73        13\n",
      "          ft       0.88      0.88      0.88         8\n",
      "           n       1.00      0.78      0.88         9\n",
      "         n-d       0.00      0.00      0.00         1\n",
      "       query       0.86      0.86      0.86         7\n",
      "         sno       0.77      1.00      0.87        73\n",
      "          so       1.00      0.50      0.67         4\n",
      "           y       1.00      0.60      0.75        10\n",
      "         y-d       0.50      0.50      0.50         2\n",
      "\n",
      "    accuracy                           0.84       165\n",
      "   macro avg       0.84      0.69      0.75       165\n",
      "weighted avg       0.86      0.84      0.84       165\n",
      "\n"
     ]
    },
    {
     "name": "stderr",
     "output_type": "stream",
     "text": [
      "c:\\users\\adianidm\\venv\\lib\\site-packages\\sklearn\\metrics\\_classification.py:1318: UndefinedMetricWarning: Precision and F-score are ill-defined and being set to 0.0 in labels with no predicted samples. Use `zero_division` parameter to control this behavior.\n",
      "  _warn_prf(average, modifier, msg_start, len(result))\n",
      "c:\\users\\adianidm\\venv\\lib\\site-packages\\sklearn\\metrics\\_classification.py:1318: UndefinedMetricWarning: Precision and F-score are ill-defined and being set to 0.0 in labels with no predicted samples. Use `zero_division` parameter to control this behavior.\n",
      "  _warn_prf(average, modifier, msg_start, len(result))\n",
      "c:\\users\\adianidm\\venv\\lib\\site-packages\\sklearn\\metrics\\_classification.py:1318: UndefinedMetricWarning: Precision and F-score are ill-defined and being set to 0.0 in labels with no predicted samples. Use `zero_division` parameter to control this behavior.\n",
      "  _warn_prf(average, modifier, msg_start, len(result))\n"
     ]
    },
    {
     "name": "stdout",
     "output_type": "stream",
     "text": [
      "              precision    recall  f1-score   support\n",
      "\n",
      "         ack       0.00      0.00      0.00         5\n",
      "         dno       0.86      0.67      0.75         9\n",
      "          fa       1.00      0.80      0.89         5\n",
      "          fe       0.75      0.75      0.75         8\n",
      "          fp       0.71      0.50      0.59        10\n",
      "          ft       1.00      1.00      1.00         8\n",
      "           n       0.44      0.57      0.50         7\n",
      "         n-d       0.00      0.00      0.00         3\n",
      "       query       0.75      0.30      0.43        10\n",
      "         sno       0.71      0.97      0.82        75\n",
      "          so       0.00      0.00      0.00         7\n",
      "           y       0.85      0.79      0.81        14\n",
      "         y-d       1.00      0.25      0.40         4\n",
      "\n",
      "    accuracy                           0.73       165\n",
      "   macro avg       0.62      0.51      0.53       165\n",
      "weighted avg       0.69      0.73      0.69       165\n",
      "\n"
     ]
    },
    {
     "name": "stderr",
     "output_type": "stream",
     "text": [
      "c:\\users\\adianidm\\venv\\lib\\site-packages\\sklearn\\metrics\\_classification.py:1318: UndefinedMetricWarning: Precision and F-score are ill-defined and being set to 0.0 in labels with no predicted samples. Use `zero_division` parameter to control this behavior.\n",
      "  _warn_prf(average, modifier, msg_start, len(result))\n",
      "c:\\users\\adianidm\\venv\\lib\\site-packages\\sklearn\\metrics\\_classification.py:1318: UndefinedMetricWarning: Precision and F-score are ill-defined and being set to 0.0 in labels with no predicted samples. Use `zero_division` parameter to control this behavior.\n",
      "  _warn_prf(average, modifier, msg_start, len(result))\n",
      "c:\\users\\adianidm\\venv\\lib\\site-packages\\sklearn\\metrics\\_classification.py:1318: UndefinedMetricWarning: Precision and F-score are ill-defined and being set to 0.0 in labels with no predicted samples. Use `zero_division` parameter to control this behavior.\n",
      "  _warn_prf(average, modifier, msg_start, len(result))\n"
     ]
    },
    {
     "name": "stdout",
     "output_type": "stream",
     "text": [
      "              precision    recall  f1-score   support\n",
      "\n",
      "         ack       0.00      0.00      0.00         3\n",
      "         dno       1.00      0.70      0.82        10\n",
      "          fa       1.00      0.78      0.88         9\n",
      "          fe       0.70      0.70      0.70        10\n",
      "          fp       0.92      0.69      0.79        16\n",
      "          ft       0.89      0.89      0.89         9\n",
      "           n       1.00      0.70      0.82        10\n",
      "         n-d       0.00      0.00      0.00         2\n",
      "       query       1.00      0.62      0.77         8\n",
      "         sno       0.68      0.97      0.80        69\n",
      "          so       0.00      0.00      0.00         8\n",
      "           y       0.89      0.80      0.84        10\n",
      "         y-d       0.00      0.00      0.00         1\n",
      "\n",
      "    accuracy                           0.77       165\n",
      "   macro avg       0.62      0.53      0.56       165\n",
      "weighted avg       0.74      0.77      0.74       165\n",
      "\n"
     ]
    },
    {
     "data": {
      "image/png": "[encoded data removed]",
      "text/plain": [
       "<Figure size 432x288 with 2 Axes>"
      ]
     },
     "metadata": {
      "needs_background": "light"
     },
     "output_type": "display_data"
    },
    {
     "data": {
      "image/png": "[encoded data removed]",
      "text/plain": [
       "<Figure size 432x288 with 2 Axes>"
      ]
     },
     "metadata": {
      "needs_background": "light"
     },
     "output_type": "display_data"
    },
    {
     "data": {
      "image/png": "[encoded data removed]",
      "text/plain": [
       "<Figure size 432x288 with 2 Axes>"
      ]
     },
     "metadata": {
      "needs_background": "light"
     },
     "output_type": "display_data"
    },
    {
     "data": {
      "image/png": "[encoded data removed]",
      "text/plain": [
       "<Figure size 432x288 with 2 Axes>"
      ]
     },
     "metadata": {
      "needs_background": "light"
     },
     "output_type": "display_data"
    },
    {
     "data": {
      "image/png": "[encoded data removed]",
      "text/plain": [
       "<Figure size 432x288 with 2 Axes>"
      ]
     },
     "metadata": {
      "needs_background": "light"
     },
     "output_type": "display_data"
    }
   ],
   "source": [
    "rf_models = []\n",
    "rf_predictions =[]\n",
    "rf_scores = []\n",
    "rf_f1_scores = []\n",
    "for i in range(len(data_train_encoded)):\n",
    "    \n",
    "    print(\"-------------------------------Model \"+ str(i)+\"--------------------------------\")\n",
    "\n",
    "    training_data = data_train_encoded[i]\n",
    "    X_train = training_data[0]\n",
    "    y_train = training_data[1]\n",
    "    test_data = data_test_encoded[i]\n",
    "    X_test = test_data[0]\n",
    "    y_test = test_data[1]\n",
    "    \n",
    "    rf_clf = RandomForestClassifier(n_estimators=rf_best_params['n_estimators'],\n",
    "                                    min_samples_split=rf_best_params['min_samples_split'],\n",
    "                                    min_samples_leaf=rf_best_params['min_samples_leaf'], \n",
    "                                    max_features=rf_best_params[\"max_features\"],\n",
    "                                    max_depth=rf_best_params['max_depth'],\n",
    "                                    bootstrap=rf_best_params['bootstrap'])\n",
    "\n",
    "    rf_clf.fit(X_train, y_train)\n",
    "    rf_models.append(rf_clf)\n",
    "    #print()\n",
    "    y_pred = rf_clf.predict(X_test)\n",
    "    rf_predictions.append(y_pred)\n",
    "    \n",
    "    rf_scores.append(accuracy_score(y_test, y_pred))\n",
    "    rf_f1_scores.append(f1_score(y_test, y_pred,average='macro'))\n",
    "    print(classification_report(le.inverse_transform(y_test), le.inverse_transform(y_pred)))\n",
    "    \n",
    "    print(\"-------------------------------Model \"+ str(i)+\"--------------------------------\")\n",
    "\n",
    "    cm = confusion_matrix(le.inverse_transform(y_test), le.inverse_transform(y_pred))\n",
    "    disp = ConfusionMatrixDisplay(confusion_matrix=cm, display_labels=le.classes_)\n",
    "    disp.plot()\n",
    "    "
   ]
  },
  {
   "cell_type": "code",
   "execution_count": null,
   "id": "sacred-expense",
   "metadata": {},
   "outputs": [],
   "source": [
    "sum(rf_scores)/5"
   ]
  },
  {
   "cell_type": "code",
   "execution_count": null,
   "id": "sized-polymer",
   "metadata": {},
   "outputs": [],
   "source": [
    "sum(rf_f1_scores)/5"
   ]
  },
  {
   "cell_type": "code",
   "execution_count": null,
   "id": "determined-million",
   "metadata": {},
   "outputs": [],
   "source": [
    "rf_scores"
   ]
  },
  {
   "cell_type": "code",
   "execution_count": null,
   "id": "designing-fisher",
   "metadata": {},
   "outputs": [],
   "source": [
    "rf_f1_scores\n"
   ]
  },
  {
   "cell_type": "markdown",
   "id": "better-turkish",
   "metadata": {},
   "source": [
    "## Saving data \n"
   ]
  },
  {
   "cell_type": "code",
   "execution_count": 552,
   "id": "confused-penetration",
   "metadata": {},
   "outputs": [],
   "source": [
    "#train model on all data"
   ]
  },
  {
   "cell_type": "code",
   "execution_count": 129,
   "id": "literary-territory",
   "metadata": {},
   "outputs": [],
   "source": [
    "with open(\"Data/label_encoder.pkl\", \"wb\") as f:\n",
    "    pickle.dump(le,f)"
   ]
  },
  {
   "cell_type": "code",
   "execution_count": 554,
   "id": "willing-massachusetts",
   "metadata": {},
   "outputs": [],
   "source": [
    "\n",
    "with open(\"../FinalBERT/Data/label_encoder.pkl\", \"wb\") as f:\n",
    "    pickle.dump(le,f)"
   ]
  },
  {
   "cell_type": "code",
   "execution_count": 130,
   "id": "suffering-billion",
   "metadata": {},
   "outputs": [],
   "source": [
    "with open(\"Models/svm_models.pkl\", \"wb\") as f:\n",
    "    pickle.dump(models, f)"
   ]
  },
  {
   "cell_type": "code",
   "execution_count": 131,
   "id": "generic-contribution",
   "metadata": {},
   "outputs": [],
   "source": [
    "with open(\"Models/rf_models.pkl\", \"wb\") as f:\n",
    "    pickle.dump(rf_models, f)"
   ]
  },
  {
   "cell_type": "code",
   "execution_count": 132,
   "id": "saved-notice",
   "metadata": {},
   "outputs": [],
   "source": [
    "with open(\"Data/data_5splits.pkl\", \"wb\") as f:\n",
    "    pickle.dump(list(zip(data_train_encoded, data_test_encoded)), f)"
   ]
  },
  {
   "cell_type": "code",
   "execution_count": 133,
   "id": "superb-virus",
   "metadata": {},
   "outputs": [],
   "source": [
    "with open(\"Data/vocab.pkl\", \"wb\") as f:\n",
    "    pickle.dump(vocab, f)"
   ]
  }
 ],
 "metadata": {
  "kernelspec": {
   "display_name": "Python 3",
   "language": "python",
   "name": "python3"
  },
  "language_info": {
   "codemirror_mode": {
    "name": "ipython",
    "version": 3
   },
   "file_extension": ".py",
   "mimetype": "text/x-python",
   "name": "python",
   "nbconvert_exporter": "python",
   "pygments_lexer": "ipython3",
   "version": "3.7.7"
  }
 },
 "nbformat": 4,
 "nbformat_minor": 5
}
